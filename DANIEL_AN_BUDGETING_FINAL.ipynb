{
  "cells": [
    {
      "cell_type": "code",
      "source": [
        "import csv\n",
        "import os\n",
        "import pandas as pd\n",
        "\n",
        "headings = [\"Title\", \"Income/Expense\", \"Amount\", \"Date\"]\n",
        "file_path = \"./budget.csv\"\n",
        "\n",
        "if not os.path.exists(file_path):\n",
        "    with open(file_path, \"w\", newline='') as file:\n",
        "        writer = csv.DictWriter(file, fieldnames=headings)\n",
        "        writer.writeheader()\n",
        "\n",
        "current_task = \"\"\n",
        "viewed_transactions = False\n",
        "\n",
        "while current_task != \"q\":\n",
        "    print(\"Press [a] to add a transaction, [b] to view the account balance, [v] to view all transactions, or [q] to quit.\")\n",
        "    current_task = input(\"What would you like to do? \")\n",
        "\n",
        "    if current_task == \"q\":\n",
        "        break\n",
        "    elif current_task == \"a\":\n",
        "        new_transaction = input(\"Type your new transaction below: \")\n",
        "        new_type = input(\"Type Income or Expense: \")\n",
        "        new_amount = input(\"Type amount: \")\n",
        "        new_date = input(\"Type date (mm-dd-yyyy): \")\n",
        "\n",
        "        with open(file_path, \"a\", newline='') as file:\n",
        "            writer = csv.DictWriter(file, fieldnames=headings)\n",
        "            writer.writerow({\"Title\": new_transaction, \"Income/Expense\": new_type, \"Amount\": new_amount, \"Date\": new_date})\n",
        "\n",
        "    elif current_task == \"v\":\n",
        "            budget_df = pd.read_csv(file_path)\n",
        "            print(budget_df)\n",
        "\n",
        "    elif current_task == \"b\":\n",
        "        budget_df = pd.read_csv(file_path)\n",
        "        sum_of_income = budget_df[budget_df['Income/Expense'] == 'income']['Amount'].sum()\n",
        "        sum_of_expense = budget_df[budget_df['Income/Expense'] == 'expense']['Amount'].sum()\n",
        "        result = sum_of_income - sum_of_expense\n",
        "        print(\"Account Balance:\", result)\n",
        "\n",
        "    else:\n",
        "        print(\"Invalid option. Please try again.\")\n",
        "\n",
        "\n"
      ],
      "metadata": {
        "colab": {
          "base_uri": "https://localhost:8080/"
        },
        "id": "-cQkVUvEyOFX",
        "outputId": "ac882838-ccbc-4787-bf3b-da30f5819b21"
      },
      "execution_count": null,
      "outputs": [
        {
          "name": "stdout",
          "output_type": "stream",
          "text": [
            "Press [a] to add a transaction, [b] to view the account balance, [v] to view all transactions, or [q] to quit.\n",
            "What would you like to do? a\n",
            "Type your new transaction below: banana\n",
            "Type Income or Expense: income\n",
            "Type amount: 50\n",
            "Type date (mm-dd-yyyy): 08-10-2002\n",
            "Press [a] to add a transaction, [b] to view the account balance, [v] to view all transactions, or [q] to quit.\n",
            "What would you like to do? b\n",
            "Account Balance: 50\n",
            "Press [a] to add a transaction, [b] to view the account balance, [v] to view all transactions, or [q] to quit.\n",
            "What would you like to do? v\n",
            "    Title Income/Expense  Amount        Date\n",
            "0  banana         income      50  08-10-2002\n",
            "Press [a] to add a transaction, [b] to view the account balance, [v] to view all transactions, or [q] to quit.\n",
            "What would you like to do? q\n"
          ]
        }
      ]
    },
    {
      "cell_type": "code",
      "source": [],
      "metadata": {
        "id": "7EYCzsBo-h7T"
      },
      "execution_count": null,
      "outputs": []
    }
  ],
  "metadata": {
    "colab": {
      "provenance": []
    },
    "kernelspec": {
      "display_name": "Python 3",
      "language": "python",
      "name": "python3"
    },
    "language_info": {
      "codemirror_mode": {
        "name": "ipython",
        "version": 3
      },
      "file_extension": ".py",
      "mimetype": "text/x-python",
      "name": "python",
      "nbconvert_exporter": "python",
      "pygments_lexer": "ipython3",
      "version": "3.7.6"
    }
  },
  "nbformat": 4,
  "nbformat_minor": 0
}